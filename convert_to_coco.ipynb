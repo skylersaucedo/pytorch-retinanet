{
 "cells": [
  {
   "cell_type": "code",
   "execution_count": 1,
   "metadata": {},
   "outputs": [
    {
     "name": "stdout",
     "output_type": "stream",
     "text": [
      "c:\\Users\\endle\\Desktop\\pytorch-retinanet\n"
     ]
    }
   ],
   "source": [
    "\"\"\"use this to convert .csv to coco\n",
    "\n",
    "data is formatted as\n",
    "\n",
    "data:\n",
    "images\n",
    "annos\n",
    "\n",
    "\"\"\"\n",
    "\n",
    "import os\n",
    "\n",
    "root = os.getcwd()\n",
    "\n",
    "print(root)"
   ]
  },
  {
   "cell_type": "code",
   "execution_count": 3,
   "metadata": {},
   "outputs": [
    {
     "name": "stdout",
     "output_type": "stream",
     "text": [
      "   Unnamed: 0                                   filename  width  height   \n",
      "0           0          alopecia_areata_0002_Original.jpg    512     512  \\\n",
      "1           1          alopecia_areata_0002_Original.jpg    512     512   \n",
      "2           2         alopecia_areata_0002_RandomFog.jpg    512     512   \n",
      "3           3         alopecia_areata_0002_RandomFog.jpg    512     512   \n",
      "4           4  alopecia_areata_0002_RandomBrightness.jpg    512     512   \n",
      "\n",
      "             class  xmin  ymin  xmax  ymax  \n",
      "0  alopecia_areata    78    71   340   262  \n",
      "1  alopecia_areata   140   310   295   459  \n",
      "2  alopecia_areata    78    71   340   262  \n",
      "3  alopecia_areata   140   310   295   459  \n",
      "4  alopecia_areata   160     8   457   331  \n",
      "   Unnamed: 0                                   filename  width  height   \n",
      "0           0          alopecia_areata_0662_Original.jpg    512     512  \\\n",
      "1           1         alopecia_areata_0662_RandomFog.jpg    512     512   \n",
      "2           2  alopecia_areata_0662_RandomBrightness.jpg    512     512   \n",
      "3           3        alopecia_areata_0662_RandomCrop.jpg    512     512   \n",
      "4           4            alopecia_areata_0662_Rotate.jpg    512     512   \n",
      "\n",
      "             class  xmin  ymin  xmax  ymax  \n",
      "0  alopecia_areata    82    38   434   437  \n",
      "1  alopecia_areata    82    38   434   437  \n",
      "2  alopecia_areata     6     0   512   507  \n",
      "3  alopecia_areata    82    38   434   437  \n",
      "4  alopecia_areata    82    38   434   437  \n",
      "len of train:  9282\n",
      "len of test:  2196\n"
     ]
    }
   ],
   "source": [
    "train_csv_path = r'data\\train_labels.csv'\n",
    "test_csv_path = r'data\\test_labels.csv'\n",
    "\n",
    "import pandas as pd\n",
    "\n",
    "df_train = pd.read_csv(train_csv_path)\n",
    "df_test = pd.read_csv(test_csv_path)\n",
    "\n",
    "print(df_train.head())\n",
    "print(df_test.head())\n",
    "\n",
    "print('len of train: ', len(df_train))\n",
    "print('len of test: ', len(df_test))\n",
    "\n"
   ]
  },
  {
   "cell_type": "code",
   "execution_count": 4,
   "metadata": {},
   "outputs": [
    {
     "name": "stdout",
     "output_type": "stream",
     "text": [
      "   Unnamed: 0                                   filename  width  height   \n",
      "0           0          alopecia_areata_0002_Original.jpg    512     512  \\\n",
      "1           1          alopecia_areata_0002_Original.jpg    512     512   \n",
      "2           2         alopecia_areata_0002_RandomFog.jpg    512     512   \n",
      "3           3         alopecia_areata_0002_RandomFog.jpg    512     512   \n",
      "4           4  alopecia_areata_0002_RandomBrightness.jpg    512     512   \n",
      "\n",
      "             class  xmin  ymin  xmax  ymax  \n",
      "0  alopecia_areata    78    71   340   262  \n",
      "1  alopecia_areata   140   310   295   459  \n",
      "2  alopecia_areata    78    71   340   262  \n",
      "3  alopecia_areata   140   310   295   459  \n",
      "4  alopecia_areata   160     8   457   331  \n",
      "len of total df:  11478\n"
     ]
    }
   ],
   "source": [
    "# combine both dfs into one\n",
    "\n",
    "df = pd.concat([df_train,df_test])\n",
    "print(df.head())\n",
    "print('len of total df: ', len(df))\n",
    "\n"
   ]
  },
  {
   "cell_type": "code",
   "execution_count": 6,
   "metadata": {},
   "outputs": [],
   "source": [
    "import numpy as np\n",
    "import json\n",
    "import pandas as pd\n",
    "\n",
    "# use this method to convert csv to json\n",
    "\n",
    "def convert_to_coco(data, save_json_path):\n",
    "    #path = 'tensorflow2csv.csv'\n",
    "    #data = pd.read_csv(path)\n",
    "\n",
    "    images = []\n",
    "    categories = []\n",
    "    annotations = []\n",
    "\n",
    "    category = {}\n",
    "    category[\"supercategory\"] = 'none'\n",
    "    category[\"id\"] = 0\n",
    "    category[\"name\"] = 'None'\n",
    "    categories.append(category)\n",
    "\n",
    "    data['fileid'] = data['filename'].astype('category').cat.codes\n",
    "    data['categoryid']= pd.Categorical(data['class'],ordered= True).codes\n",
    "    data['categoryid'] = data['categoryid']+1\n",
    "    data['annid'] = data.index\n",
    "\n",
    "    def image(row):\n",
    "        image = {}\n",
    "        image[\"height\"] = row.height\n",
    "        image[\"width\"] = row.width\n",
    "        image[\"id\"] = row.fileid\n",
    "        image[\"file_name\"] = row.filename\n",
    "        return image\n",
    "\n",
    "    def category(row):\n",
    "        category = {}\n",
    "        category[\"supercategory\"] = 'None'\n",
    "        category[\"id\"] = row.categoryid\n",
    "        category[\"name\"] = row[2]\n",
    "        return category\n",
    "\n",
    "    def annotation(row):\n",
    "        annotation = {}\n",
    "        area = (row.xmax -row.xmin)*(row.ymax - row.ymin)\n",
    "        annotation[\"segmentation\"] = []\n",
    "        annotation[\"iscrowd\"] = 0\n",
    "        annotation[\"area\"] = area\n",
    "        annotation[\"image_id\"] = row.fileid\n",
    "\n",
    "        annotation[\"bbox\"] = [row.xmin, row.ymin, row.xmax -row.xmin,row.ymax-row.ymin ]\n",
    "\n",
    "        annotation[\"category_id\"] = row.categoryid\n",
    "        annotation[\"id\"] = row.annid\n",
    "        return annotation\n",
    "\n",
    "    for row in data.itertuples():\n",
    "        annotations.append(annotation(row))\n",
    "\n",
    "    imagedf = data.drop_duplicates(subset=['fileid']).sort_values(by='fileid')\n",
    "    for row in imagedf.itertuples():\n",
    "        images.append(image(row))\n",
    "\n",
    "    catdf = data.drop_duplicates(subset=['categoryid']).sort_values(by='categoryid')\n",
    "    for row in catdf.itertuples():\n",
    "        categories.append(category(row))\n",
    "\n",
    "    data_coco = {}\n",
    "    data_coco[\"images\"] = images\n",
    "    data_coco[\"categories\"] = categories\n",
    "    data_coco[\"annotations\"] = annotations\n",
    "\n",
    "\n",
    "    json.dump(data_coco, open(save_json_path, \"w\"), indent=4)\n",
    "\n",
    "# see if it works\n",
    "\n",
    "#save_json_path = root + \"\\\\\" 'sbl_ds_coco.json'\n",
    "\n",
    "#convert_to_coco(df, save_json_path)\n"
   ]
  },
  {
   "cell_type": "code",
   "execution_count": null,
   "metadata": {},
   "outputs": [],
   "source": []
  }
 ],
 "metadata": {
  "kernelspec": {
   "display_name": "pytorch-gpu",
   "language": "python",
   "name": "python3"
  },
  "language_info": {
   "codemirror_mode": {
    "name": "ipython",
    "version": 3
   },
   "file_extension": ".py",
   "mimetype": "text/x-python",
   "name": "python",
   "nbconvert_exporter": "python",
   "pygments_lexer": "ipython3",
   "version": "3.9.16"
  },
  "orig_nbformat": 4
 },
 "nbformat": 4,
 "nbformat_minor": 2
}
